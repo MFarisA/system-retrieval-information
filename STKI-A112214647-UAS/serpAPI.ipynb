{
 "cells": [
  {
   "cell_type": "code",
   "execution_count": null,
   "metadata": {},
   "outputs": [],
   "source": [
    "import csv\n",
    "from google_play_scraper import reviews, Sort\n",
    "\n",
    "# Fetch reviews for Genshin Impact (app ID: com.miHoYo.GenshinImpact)\n",
    "result, continuation_token = reviews(\n",
    "    'com.miHoYo.GenshinImpact',  # Genshin Impact app ID\n",
    "    lang='en',                   # Language\n",
    "    country='us',                # Country\n",
    "    count=1000,                   # Number of reviews\n",
    "    sort=Sort.NEWEST             # Sort order (use Sort enum)\n",
    ")\n",
    "\n",
    "# Filepath for saving CSV\n",
    "csv_file = \"genshin_impact_reviews.csv\"\n",
    "\n",
    "# Define CSV headers\n",
    "headers = ['id', 'title', 'avatar', 'rating', 'snippet', 'likes', 'date', 'iso_date', 'response']\n",
    "\n",
    "# Write to CSV\n",
    "with open(csv_file, mode='w', encoding='utf-8', newline='') as file:\n",
    "    writer = csv.DictWriter(file, fieldnames=headers)\n",
    "\n",
    "    # Write header row\n",
    "    writer.writeheader()\n",
    "\n",
    "    # Map and write each review to the CSV\n",
    "    for review in result:\n",
    "        writer.writerow({\n",
    "            'id': review.get('reviewId'),\n",
    "            'title': review.get('userName'),\n",
    "            'avatar': None,  # Not available in google-play-scraper\n",
    "            'rating': review.get('score'),\n",
    "            'snippet': review.get('content'),\n",
    "            'likes': review.get('thumbsUpCount'),\n",
    "            'date': review.get('at').strftime('%Y-%m-%d %H:%M:%S') if review.get('at') else None,\n",
    "            'iso_date': review.get('at').isoformat() if review.get('at') else None,\n",
    "            'response': review.get('replyContent')\n",
    "        })\n",
    "\n",
    "print(f\"Reviews for Genshin Impact saved to {csv_file}\")"
   ]
  }
 ],
 "metadata": {
  "kernelspec": {
   "display_name": "gensin",
   "language": "python",
   "name": "python3"
  },
  "language_info": {
   "name": "python",
   "version": "3.12.7"
  }
 },
 "nbformat": 4,
 "nbformat_minor": 2
}
