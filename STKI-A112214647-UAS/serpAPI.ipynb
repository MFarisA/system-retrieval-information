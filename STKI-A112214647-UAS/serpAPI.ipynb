{
 "cells": [
  {
   "cell_type": "code",
   "execution_count": null,
   "metadata": {},
   "outputs": [],
   "source": [
    "import serpapi\n",
    "import os\n",
    "import pandas as pd\n",
    "\n",
    "from dotenv import load_dotenv"
   ]
  },
  {
   "cell_type": "code",
   "execution_count": null,
   "metadata": {},
   "outputs": [],
   "source": [
    "load_dotenv()\n",
    "\n",
    "api_key = os.getenv('SERPAPI_KEY')\n",
    "client = serpapi.Client(api_key=api_key)\n",
    "\n",
    "results = client.search(\n",
    "    engine=\"google_play_product\",\n",
    "    product_id=\"com.miHoYo.GenshinImpact\",\n",
    "    store=\"apps\",\n",
    "    all_reviews=\"true\",\n",
    "    num=199\n",
    ")\n",
    "\n",
    "data = results['reviews']\n",
    "print(\"total reviews : \", len(results['reviews']))\n",
    "\n",
    "print(\"all done\")\n"
   ]
  },
  {
   "cell_type": "code",
   "execution_count": null,
   "metadata": {},
   "outputs": [],
   "source": [
    "df = pd.DataFrame(data)\n",
    "df.to_csv('google-play-rev-gen-2.csv', index=False)"
   ]
  }
 ],
 "metadata": {
  "kernelspec": {
   "display_name": "gensin",
   "language": "python",
   "name": "python3"
  },
  "language_info": {
   "name": "python",
   "version": "3.12.7"
  }
 },
 "nbformat": 4,
 "nbformat_minor": 2
}
