{
 "cells": [
  {
   "cell_type": "code",
   "execution_count": 1,
   "metadata": {},
   "outputs": [],
   "source": [
    "from sklearn.feature_extraction.text import TfidfVectorizer\n",
    "\n",
    "# Membaca data hasil preprocessing\n",
    "import pandas as pd\n",
    "df = pd.read_csv('data/preprocessed/preprocessed_genshin.csv')\n",
    "\n",
    "# Representasi teks menggunakan TF-IDF\n",
    "tfidf = TfidfVectorizer(stop_words='english', max_features=1000)\n",
    "tfidf_matrix = tfidf.fit_transform(df['snippet'])"
   ]
  },
  {
   "cell_type": "code",
   "execution_count": 2,
   "metadata": {},
   "outputs": [
    {
     "name": "stdout",
     "output_type": "stream",
     "text": [
      "cluster\n",
      "2    56\n",
      "4    48\n",
      "0    39\n",
      "3    34\n",
      "1    22\n",
      "Name: count, dtype: int64\n"
     ]
    }
   ],
   "source": [
    "from sklearn.cluster import KMeans\n",
    "\n",
    "# Menentukan jumlah cluster\n",
    "n_clusters = 5  # Sesuaikan jumlah cluster sesuai kebutuhan\n",
    "kmeans = KMeans(n_clusters=n_clusters, random_state=42)\n",
    "\n",
    "# Melakukan clustering\n",
    "df['cluster'] = kmeans.fit_predict(tfidf_matrix)\n",
    "\n",
    "# Menampilkan jumlah ulasan dalam setiap cluster\n",
    "print(df['cluster'].value_counts())"
   ]
  },
  {
   "cell_type": "code",
   "execution_count": 6,
   "metadata": {},
   "outputs": [
    {
     "data": {
      "image/png": "[encoded data removed]",
      "text/plain": [
       "<Figure size 800x500 with 1 Axes>"
      ]
     },
     "metadata": {},
     "output_type": "display_data"
    }
   ],
   "source": [
    "import matplotlib.pyplot as plt\n",
    "\n",
    "# Membuat grafik distribusi cluster\n",
    "plt.figure(figsize=(8, 5))\n",
    "df['cluster'].value_counts().sort_index().plot(kind='bar', color='skyblue')\n",
    "plt.title('Distribusi Ulasan dalam Cluster')\n",
    "plt.xlabel('Cluster')\n",
    "plt.ylabel('Jumlah Ulasan')\n",
    "plt.xticks(rotation=0)\n",
    "plt.show()"
   ]
  },
  {
   "cell_type": "code",
   "execution_count": 3,
   "metadata": {},
   "outputs": [],
   "source": [
    "# def recommend_by_cluster(title, df, n_recommendations=5):\n",
    "#     # Mencari cluster dari ulasan yang diberikan\n",
    "#     try:\n",
    "#         cluster = df.loc[df['title'] == title, 'cluster'].values[0]\n",
    "#     except IndexError:\n",
    "#         return \"Title tidak ditemukan dalam dataset.\"\n",
    "    \n",
    "#     # Mengambil ulasan dalam cluster yang sama\n",
    "#     cluster_data = df[df['cluster'] == cluster]\n",
    "    \n",
    "#     # Jika cluster terlalu kecil\n",
    "#     if len(cluster_data) < n_recommendations:\n",
    "#         n_recommendations = len(cluster_data)\n",
    "    \n",
    "#     # Menampilkan ulasan lain dari cluster\n",
    "#     recommendations = cluster_data.sample(n=n_recommendations)\n",
    "#     return recommendations[['title', 'snippet', 'rating']]\n",
    "\n",
    "# # Contoh rekomendasi\n",
    "# title = \"Seraphim\"  # Judul ulasan\n",
    "# recommendations = recommend_by_cluster(title, df)\n",
    "# print(recommendations)"
   ]
  },
  {
   "cell_type": "code",
   "execution_count": 9,
   "metadata": {},
   "outputs": [
    {
     "name": "stdout",
     "output_type": "stream",
     "text": [
      "           title                                            snippet  rating\n",
      "17           Nex  ive played game years little release pretty fu...     5.0\n",
      "73    Sonu Kadam  best action adventure game aver play smartphon...     5.0\n",
      "14         Tim T  playing since sep game beautiful love differen...     3.0\n",
      "111  LastFireFox  th anniversary weapon banner pitt along radian...     4.0\n",
      "180  Albert Zhou  new rewards story quests long dialouge options...     2.0\n"
     ]
    }
   ],
   "source": [
    "def recommend_by_snippet(snippet, df, n_recommendations=5):\n",
    "    # Normalisasi casing dan hilangkan spasi ekstra pada snippet\n",
    "    snippet = snippet.lower().strip()\n",
    "    \n",
    "    # Cari snippet yang paling mirip\n",
    "    df['snippet_similarity'] = df['snippet'].apply(lambda x: text_similarity(snippet, x))\n",
    "    \n",
    "    # Urutkan berdasarkan kemiripan terbesar\n",
    "    similar_snippets = df.sort_values(by='snippet_similarity', ascending=False)\n",
    "    \n",
    "    # Ambil rekomendasi dari cluster yang sama\n",
    "    cluster = similar_snippets.iloc[0]['cluster']  # Ambil cluster dari snippet yang paling mirip\n",
    "    cluster_data = df[df['cluster'] == cluster]\n",
    "    \n",
    "    # Jika cluster terlalu kecil\n",
    "    if len(cluster_data) < n_recommendations:\n",
    "        n_recommendations = len(cluster_data)\n",
    "    \n",
    "    # Tampilkan ulasan lain dari cluster yang sama\n",
    "    recommendations = cluster_data.sample(n=n_recommendations)\n",
    "    return recommendations[['title', 'snippet', 'rating']]\n",
    "\n",
    "def text_similarity(snippet1, snippet2):\n",
    "    # Menghitung kemiripan teks menggunakan cosine similarity atau metrik lain\n",
    "    from sklearn.feature_extraction.text import TfidfVectorizer\n",
    "    from sklearn.metrics.pairwise import cosine_similarity\n",
    "\n",
    "    tfidf = TfidfVectorizer(stop_words='english')\n",
    "    tfidf_matrix = tfidf.fit_transform([snippet1, snippet2])\n",
    "    \n",
    "    # Menghitung cosine similarity antara dua teks\n",
    "    similarity = cosine_similarity(tfidf_matrix[0], tfidf_matrix[1])\n",
    "    return similarity[0][0]\n",
    "\n",
    "# Contoh pencarian berdasarkan snippet\n",
    "snippet = \"gensin\"\n",
    "recommendations = recommend_by_snippet(snippet, df)\n",
    "print(recommendations)\n"
   ]
  }
 ],
 "metadata": {
  "kernelspec": {
   "display_name": "gensin",
   "language": "python",
   "name": "python3"
  },
  "language_info": {
   "codemirror_mode": {
    "name": "ipython",
    "version": 3
   },
   "file_extension": ".py",
   "mimetype": "text/x-python",
   "name": "python",
   "nbconvert_exporter": "python",
   "pygments_lexer": "ipython3",
   "version": "3.12.7"
  }
 },
 "nbformat": 4,
 "nbformat_minor": 2
}
