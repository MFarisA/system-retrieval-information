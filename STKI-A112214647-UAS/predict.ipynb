{
 "cells": [
  {
   "cell_type": "code",
   "execution_count": 2,
   "metadata": {},
   "outputs": [
    {
     "name": "stdout",
     "output_type": "stream",
     "text": [
      "Prediksi untuk teks 'poor': Positive\n"
     ]
    }
   ],
   "source": [
    "import pickle\n",
    "\n",
    "# Memuat model dan vectorizer dari file .pkl\n",
    "with open('xgb_model.pkl', 'rb') as model_file:\n",
    "    model = pickle.load(model_file)\n",
    "\n",
    "with open('vectorizer.pkl', 'rb') as vectorizer_file:\n",
    "    vectorizer = pickle.load(vectorizer_file)\n",
    "\n",
    "# Menentukan teks yang ingin diuji\n",
    "new_text = \"poor\"\n",
    "\n",
    "# Mengubah teks menjadi fitur menggunakan vectorizer\n",
    "new_text_tfidf = vectorizer.transform([new_text])\n",
    "\n",
    "# Melakukan prediksi dengan model\n",
    "prediction = model.predict(new_text_tfidf)\n",
    "\n",
    "# Menampilkan hasil prediksi\n",
    "if prediction == 1:\n",
    "    print(f\"Prediksi untuk teks '{new_text}': Positive\")\n",
    "else:\n",
    "    print(f\"Prediksi untuk teks '{new_text}': Negative\")"
   ]
  }
 ],
 "metadata": {
  "kernelspec": {
   "display_name": "gensin",
   "language": "python",
   "name": "python3"
  },
  "language_info": {
   "codemirror_mode": {
    "name": "ipython",
    "version": 3
   },
   "file_extension": ".py",
   "mimetype": "text/x-python",
   "name": "python",
   "nbconvert_exporter": "python",
   "pygments_lexer": "ipython3",
   "version": "3.12.7"
  }
 },
 "nbformat": 4,
 "nbformat_minor": 2
}
