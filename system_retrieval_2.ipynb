{
  "nbformat": 4,
  "nbformat_minor": 0,
  "metadata": {
    "colab": {
      "provenance": [],
      "authorship_tag": "ABX9TyPB8UGeWYsfkfYq/8koHG7W",
      "include_colab_link": true
    },
    "kernelspec": {
      "name": "python3",
      "display_name": "Python 3"
    },
    "language_info": {
      "name": "python"
    }
  },
  "cells": [
    {
      "cell_type": "markdown",
      "metadata": {
        "id": "view-in-github",
        "colab_type": "text"
      },
      "source": [
        "<a href=\"https://colab.research.google.com/github/MFarisA/system-retrieval-information/blob/main/system_retrieval_2.ipynb\" target=\"_parent\"><img src=\"https://colab.research.google.com/assets/colab-badge.svg\" alt=\"Open In Colab\"/></a>"
      ]
    },
    {
      "cell_type": "code",
      "execution_count": 2,
      "metadata": {
        "colab": {
          "base_uri": "https://localhost:8080/"
        },
        "id": "vdVLaNJ05RN1",
        "outputId": "c6b85675-85c9-44fe-b3bc-e93f5c0685b6"
      },
      "outputs": [
        {
          "output_type": "stream",
          "name": "stdout",
          "text": [
            "Drive already mounted at /content/drive; to attempt to forcibly remount, call drive.mount(\"/content/drive\", force_remount=True).\n"
          ]
        }
      ],
      "source": [
        "from google.colab import drive\n",
        "drive.mount('/content/drive')\n",
        "\n",
        "file_path = '/content/drive/MyDrive/campuss/retrieval-system-information/clean_dataset.csv'"
      ]
    },
    {
      "cell_type": "code",
      "source": [
        "!pip install Sastrawi"
      ],
      "metadata": {
        "colab": {
          "base_uri": "https://localhost:8080/"
        },
        "id": "rJ7H5N276m25",
        "outputId": "8c3e1dee-69ec-4eb0-ad71-23805b4c6b98"
      },
      "execution_count": 5,
      "outputs": [
        {
          "output_type": "stream",
          "name": "stdout",
          "text": [
            "Collecting Sastrawi\n",
            "  Downloading Sastrawi-1.0.1-py2.py3-none-any.whl.metadata (909 bytes)\n",
            "Downloading Sastrawi-1.0.1-py2.py3-none-any.whl (209 kB)\n",
            "\u001b[2K   \u001b[90m━━━━━━━━━━━━━━━━━━━━━━━━━━━━━━━━━━━━━━━━\u001b[0m \u001b[32m209.7/209.7 kB\u001b[0m \u001b[31m3.7 MB/s\u001b[0m eta \u001b[36m0:00:00\u001b[0m\n",
            "\u001b[?25hInstalling collected packages: Sastrawi\n",
            "Successfully installed Sastrawi-1.0.1\n"
          ]
        }
      ]
    },
    {
      "cell_type": "code",
      "source": [
        "import pandas as pd\n",
        "import nltk\n",
        "from nltk.tokenize import sent_tokenize, word_tokenize\n",
        "from nltk.corpus import stopwords\n",
        "from Sastrawi.Stemmer.StemmerFactory import StemmerFactory"
      ],
      "metadata": {
        "id": "umSG7b5f57pG"
      },
      "execution_count": 6,
      "outputs": []
    },
    {
      "cell_type": "code",
      "source": [
        "df = pd.read_csv(file_path, on_bad_lines='skip', delimiter=';')"
      ],
      "metadata": {
        "id": "KP8L9nLs6jwQ"
      },
      "execution_count": 7,
      "outputs": []
    },
    {
      "cell_type": "code",
      "source": [
        "print(\"Nama-nama kolom dalam DataFrame:\")\n",
        "print(df.columns.tolist())"
      ],
      "metadata": {
        "colab": {
          "base_uri": "https://localhost:8080/"
        },
        "id": "giLlWUNE7DvA",
        "outputId": "366bfe39-f402-40a9-9311-8e6c4bdc21ee"
      },
      "execution_count": 8,
      "outputs": [
        {
          "output_type": "stream",
          "name": "stdout",
          "text": [
            "Nama-nama kolom dalam DataFrame:\n",
            "['Unnamed: 0', 'Tweet', 'Sentimen', 'step01', 'tokens', 'final_tokens', 'step02']\n"
          ]
        }
      ]
    },
    {
      "cell_type": "code",
      "source": [
        "print(df.head(10))"
      ],
      "metadata": {
        "colab": {
          "base_uri": "https://localhost:8080/"
        },
        "id": "MPa03h-V7NHG",
        "outputId": "20a06398-2990-4226-b158-28c5c26b087a"
      },
      "execution_count": 9,
      "outputs": [
        {
          "output_type": "stream",
          "name": "stdout",
          "text": [
            "   Unnamed: 0                                              Tweet  Sentimen  \\\n",
            "0           0  Cegah mata rantai Covid-19,mari kita dirumah s...       1.0   \n",
            "1           1  aku mohon yaAllah semoga wabah covid-19 menghi...       1.0   \n",
            "2           2  Pemprov Papua Naikkan Status Jadi Tanggap Daru...       1.0   \n",
            "3           3            Covid belum nyampe prigen mbak hmm hoax       0.0   \n",
            "4           4  Nyuruh orang pintar, lu aja Togog. Itu kerumun...      -1.0   \n",
            "5           5  Pikir2 balik byk mnde plk nk setelkn lepas covid.       0.0   \n",
            "6           6  Selamat pagi, hari jum'at. Jum'at keempat di k...       1.0   \n",
            "7           7  Hikmah di balik musibah covid-19, smg para pej...       1.0   \n",
            "8           8  Cegah covid-19 beserta jajaran Polsek Kuranji ...       1.0   \n",
            "9           9  Ya Allah kami memohon pada mu perkenankanlah d...       1.0   \n",
            "\n",
            "                                              step01  \\\n",
            "0  cegah mata rantai covid   mari kita dirumah sa...   \n",
            "1  aku mohon yaallah semoga wabah covid   menghil...   \n",
            "2  pemprov papua naikkan status jadi tanggap daru...   \n",
            "3            covid belum nyampe prigen mbak hmm hoax   \n",
            "4  nyuruh orang pintar lu aja togog itu kerumunan...   \n",
            "5    pikir balik byk mnde plk nk setelkn lepas covid   \n",
            "6  selamat pagi hari jumat jumat keempat di kala ...   \n",
            "7  hikmah di balik musibah covid   smg para pejab...   \n",
            "8  cegah covid   beserta jajaran polsek kuranji m...   \n",
            "9  ya allah kami memohon pada mu perkenankanlah d...   \n",
            "\n",
            "                                              tokens  \\\n",
            "0  ['cegah', 'mata', 'rantai', 'covid', 'mari', '...   \n",
            "1  ['aku', 'mohon', 'yaallah', 'semoga', 'wabah',...   \n",
            "2  ['pemprov', 'papua', 'naikkan', 'status', 'jad...   \n",
            "3  ['covid', 'belum', 'nyampe', 'prigen', 'mbak',...   \n",
            "4  ['nyuruh', 'orang', 'pintar', 'lu', 'aja', 'to...   \n",
            "5  ['pikir', 'balik', 'byk', 'mnde', 'plk', 'nk',...   \n",
            "6  ['selamat', 'pagi', 'hari', 'jumat', 'jumat', ...   \n",
            "7  ['hikmah', 'di', 'balik', 'musibah', 'covid', ...   \n",
            "8  ['cegah', 'covid', 'beserta', 'jajaran', 'pols...   \n",
            "9  ['ya', 'allah', 'kami', 'memohon', 'pada', 'mu...   \n",
            "\n",
            "                                        final_tokens  \\\n",
            "0  ['cegah', 'mata', 'rantai', 'covid', 'mari', '...   \n",
            "1  ['aku', 'mohon', 'yaallah', 'semoga', 'wabah',...   \n",
            "2  ['pemprov', 'papua', 'naikkan', 'status', 'jad...   \n",
            "3  ['covid', 'belum', 'nyampe', 'prigen', 'mbak',...   \n",
            "4  ['nyuruh', 'orang', 'pintar', 'lu', 'aja', 'to...   \n",
            "5  ['pikir', 'balik', 'byk', 'mnde', 'plk', 'nk',...   \n",
            "6  ['selamat', 'pagi', 'hari', 'jumat', 'jumat', ...   \n",
            "7  ['hikmah', 'di', 'balik', 'musibah', 'covid', ...   \n",
            "8  ['cegah', 'covid', 'beserta', 'jajaran', 'pols...   \n",
            "9  ['ya', 'allah', 'kami', 'memohon', 'pada', 'mu...   \n",
            "\n",
            "                                              step02  \n",
            "0  cegah mata rantai covid mari kita dirumah saja...  \n",
            "1  aku mohon yaallah semoga wabah covid menghilan...  \n",
            "2  pemprov papua naikkan status jadi tanggap daru...  \n",
            "3            covid belum nyampe prigen mbak hmm hoax  \n",
            "4  nyuruh orang pintar lu aja togog itu kerumunan...  \n",
            "5    pikir balik byk mnde plk nk setelkn lepas covid  \n",
            "6  selamat pagi hari jumat jumat keempat di kala ...  \n",
            "7  hikmah di balik musibah covid smg para pejabat...  \n",
            "8  cegah covid beserta jajaran polsek kuranji mel...  \n",
            "9  ya allah kami memohon pada mu perkenankanlah d...  \n"
          ]
        }
      ]
    },
    {
      "cell_type": "code",
      "source": [
        "if 'content' not in df.columns:\n",
        "    print(\"Kolom 'content' tidak ditemukan dalam DataFrame.\")\n",
        "else:\n",
        "    parsed_data = []  # Inisialisasi parsed_data di sini\n",
        "\n",
        "    #Step 2, Tokenisasi/Lexikal => memisah kata, hilangkan tanda baca dan, karakter\n",
        "\n",
        "    for index, row in df.iterrows():\n",
        "        # Cek apakah nilai dalam kolom 'content' tidak NaN dan tidak kosong\n",
        "        if pd.notna(row['content']) and row['content'].strip() != \"\":\n",
        "            content = row['content']\n",
        "            sentences = sent_tokenize(content)  # Tokenisasi kalimat\n",
        "            parsed_data.append(sentences)\n",
        "        else:\n",
        "            print(f\"Kolom 'content' kosong pada baris {index}.\")"
      ],
      "metadata": {
        "colab": {
          "base_uri": "https://localhost:8080/"
        },
        "id": "4k2l05xR7rcR",
        "outputId": "4f498ff9-7bed-4235-b920-0c895f1801a8"
      },
      "execution_count": 10,
      "outputs": [
        {
          "output_type": "stream",
          "name": "stdout",
          "text": [
            "Kolom 'content' tidak ditemukan dalam DataFrame.\n"
          ]
        }
      ]
    }
  ]
}